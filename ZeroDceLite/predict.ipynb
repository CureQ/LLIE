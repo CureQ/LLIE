{
 "cells": [
  {
   "cell_type": "code",
   "execution_count": 9,
   "id": "e63f1cef",
   "metadata": {},
   "outputs": [
    {
     "name": "stdout",
     "output_type": "stream",
     "text": [
      "(512, 384)\n",
      "1/1 [==============================] - 0s 219ms/step\n",
      "Inference tijd: 0.26 sec\n"
     ]
    },
    {
     "ename": "AttributeError",
     "evalue": "'tuple' object has no attribute 'shape'",
     "output_type": "error",
     "traceback": [
      "\u001b[1;31m---------------------------------------------------------------------------\u001b[0m",
      "\u001b[1;31mAttributeError\u001b[0m                            Traceback (most recent call last)",
      "Cell \u001b[1;32mIn[9], line 70\u001b[0m\n\u001b[0;32m     68\u001b[0m input_tensor, _ \u001b[38;5;241m=\u001b[39m preprocess(input_path, input_shape)\n\u001b[0;32m     69\u001b[0m \u001b[38;5;66;03m#input_tensor, _ = preprocess(input_path, input_shape)\u001b[39;00m\n\u001b[1;32m---> 70\u001b[0m enhanced_img \u001b[38;5;241m=\u001b[39m \u001b[43menhance_image\u001b[49m\u001b[43m(\u001b[49m\u001b[43mmodel\u001b[49m\u001b[43m,\u001b[49m\u001b[43m \u001b[49m\u001b[43minput_tensor\u001b[49m\u001b[43m)\u001b[49m\n\u001b[0;32m     72\u001b[0m base_name \u001b[38;5;241m=\u001b[39m os\u001b[38;5;241m.\u001b[39mpath\u001b[38;5;241m.\u001b[39msplitext(filename)[\u001b[38;5;241m0\u001b[39m]\n\u001b[0;32m     73\u001b[0m output_path \u001b[38;5;241m=\u001b[39m os\u001b[38;5;241m.\u001b[39mpath\u001b[38;5;241m.\u001b[39mjoin(output_folder, base_name \u001b[38;5;241m+\u001b[39m \u001b[38;5;124m\"\u001b[39m\u001b[38;5;124m.png\u001b[39m\u001b[38;5;124m\"\u001b[39m)\n",
      "Cell \u001b[1;32mIn[9], line 24\u001b[0m, in \u001b[0;36menhance_image\u001b[1;34m(model, input_data)\u001b[0m\n\u001b[0;32m     21\u001b[0m duration \u001b[38;5;241m=\u001b[39m time\u001b[38;5;241m.\u001b[39mtime() \u001b[38;5;241m-\u001b[39m start\n\u001b[0;32m     22\u001b[0m \u001b[38;5;28mprint\u001b[39m(\u001b[38;5;124mf\u001b[39m\u001b[38;5;124m\"\u001b[39m\u001b[38;5;124mInference tijd: \u001b[39m\u001b[38;5;132;01m{\u001b[39;00mduration\u001b[38;5;132;01m:\u001b[39;00m\u001b[38;5;124m.2f\u001b[39m\u001b[38;5;132;01m}\u001b[39;00m\u001b[38;5;124m sec\u001b[39m\u001b[38;5;124m\"\u001b[39m)\n\u001b[1;32m---> 24\u001b[0m \u001b[38;5;28mprint\u001b[39m(\u001b[38;5;124m\"\u001b[39m\u001b[38;5;124mOutput shape:\u001b[39m\u001b[38;5;124m\"\u001b[39m, \u001b[43moutput_data\u001b[49m\u001b[38;5;241;43m.\u001b[39;49m\u001b[43mshape\u001b[49m)  \u001b[38;5;66;03m# 👈 debug output\u001b[39;00m\n\u001b[0;32m     26\u001b[0m output_image \u001b[38;5;241m=\u001b[39m np\u001b[38;5;241m.\u001b[39msqueeze(output_data)  \u001b[38;5;66;03m# vorm: (H, W, 3) of (1, H, W, 3)\u001b[39;00m\n\u001b[0;32m     28\u001b[0m \u001b[38;5;28;01mif\u001b[39;00m output_image\u001b[38;5;241m.\u001b[39mndim \u001b[38;5;241m==\u001b[39m \u001b[38;5;241m3\u001b[39m:\n",
      "\u001b[1;31mAttributeError\u001b[0m: 'tuple' object has no attribute 'shape'"
     ]
    }
   ],
   "source": [
    "import os\n",
    "import numpy as np\n",
    "from PIL import Image\n",
    "import time\n",
    "import tensorflow as tf\n",
    "from ZeroDCE.zero_dce import ZeroDCE  # pas dit aan aan jouw bestandsstructuur\n",
    "\n",
    "# 🔁 Preprocessing\n",
    "def preprocess(image_path, input_shape):\n",
    "    print(input_shape)\n",
    "    height, width = input_shape  # input_shape is (H, W)\n",
    "    image = Image.open(image_path).convert(\"RGB\").resize((width, height))\n",
    "    input_data = np.asarray(image, dtype=np.float32) / 255.0\n",
    "    input_data = np.expand_dims(input_data, axis=0)\n",
    "    return input_data, image\n",
    "\n",
    "# 🔁 Inference\n",
    "def enhance_image(model, input_data):\n",
    "    start = time.time()\n",
    "    output_data = model.predict(input_data)\n",
    "    duration = time.time() - start\n",
    "    print(f\"Inference tijd: {duration:.2f} sec\")\n",
    "\n",
    "    print(\"Output shape:\", output_data.shape)  # 👈 debug output\n",
    "\n",
    "    output_image = np.squeeze(output_data)  # vorm: (H, W, 3) of (1, H, W, 3)\n",
    "    \n",
    "    if output_image.ndim == 3:\n",
    "        pass  # alles ok\n",
    "    elif output_image.ndim == 2:\n",
    "        output_image = np.stack([output_image]*3, axis=-1)  # grijs → RGB\n",
    "    else:\n",
    "        raise ValueError(f\"Onverwachte output shape: {output_image.shape}\")\n",
    "\n",
    "    output_image = output_image * 255\n",
    "    output_image = np.clip(output_image, 0, 255).astype(np.uint8)\n",
    "    return Image.fromarray(output_image)\n",
    "\n",
    "\n",
    "# 📦 Laad het .h5 model\n",
    "model = ZeroDCE(filters=32, iteration=6)  # zorg dat dit matcht met het oorspronkelijke model\n",
    "dummy_input = tf.random.normal([1, 512, 384, 3])  # pas aan op input shape\n",
    "_ = model(dummy_input, training=False)\n",
    "model.load_weights(\"finetuned_models/zero_dce_finetune2/finetuned100epochs.h5\")\n",
    "input_shape = dummy_input.shape[1:3] # (H, W)\n",
    "\n",
    "\n",
    "# 📁 Input/output mappen\n",
    "base_input_folder = \"../data-filtered-rooms\"\n",
    "base_output_folder = \"../data-zerodce-finetuned100\"\n",
    "os.makedirs(base_output_folder, exist_ok=True)\n",
    "\n",
    "for room_num in range(1, 32):\n",
    "    room_name = f\"room{room_num}\"\n",
    "    input_folder = os.path.join(base_input_folder, room_name)\n",
    "    output_folder = os.path.join(base_output_folder, room_name)\n",
    "\n",
    "    if not os.path.isdir(input_folder):\n",
    "        print(f\"Map {input_folder} bestaat niet, overslaan...\")\n",
    "        continue\n",
    "\n",
    "    os.makedirs(output_folder, exist_ok=True)\n",
    "\n",
    "    for filename in os.listdir(input_folder):\n",
    "        if filename.lower().endswith((\".jpg\", \".jpeg\", \".png\")):\n",
    "            input_path = os.path.join(input_folder, filename)\n",
    "\n",
    "            input_tensor, _ = preprocess(input_path, input_shape)\n",
    "            #input_tensor, _ = preprocess(input_path, input_shape)\n",
    "            enhanced_img = enhance_image(model, input_tensor)\n",
    "\n",
    "            base_name = os.path.splitext(filename)[0]\n",
    "            output_path = os.path.join(output_folder, base_name + \".png\")\n",
    "            enhanced_img.save(output_path)\n",
    "            print(f\"✅ Verwerkt: {input_path} → {output_path}\")\n"
   ]
  },
  {
   "cell_type": "code",
   "execution_count": null,
   "id": "b801ee3a",
   "metadata": {},
   "outputs": [],
   "source": []
  }
 ],
 "metadata": {
  "kernelspec": {
   "display_name": "tf-gpu",
   "language": "python",
   "name": "python3"
  },
  "language_info": {
   "codemirror_mode": {
    "name": "ipython",
    "version": 3
   },
   "file_extension": ".py",
   "mimetype": "text/x-python",
   "name": "python",
   "nbconvert_exporter": "python",
   "pygments_lexer": "ipython3",
   "version": "3.10.14"
  }
 },
 "nbformat": 4,
 "nbformat_minor": 5
}

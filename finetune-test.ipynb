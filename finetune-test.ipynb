{
 "cells": [
  {
   "cell_type": "markdown",
   "metadata": {},
   "source": [
    "### In deze notebook wordt de code en methode weergegeven mbt het maken van voorspellingen op de gefinetunede voorspellingen op de testdataset. De code is vrijwel identiek aan model-test.ipynb, waar verdere toelichtingen worden besproken.\n",
    "\n",
    "## Valdetectiemodel setup"
   ]
  },
  {
   "cell_type": "code",
   "execution_count": null,
   "metadata": {},
   "outputs": [],
   "source": [
    "from datetime import datetime\n",
    "from urllib.request import urlopen\n",
    "\n",
    "import numpy as np\n",
    "import PIL.Image\n",
    "import tensorflow.lite as tflite\n",
    "\n",
    "\n",
    "MODEL_FILENAME = 'model.tflite'\n",
    "LABELS_FILENAME = 'labels.txt'\n",
    "\n",
    "od_model = None\n",
    "labels = None\n",
    "\n",
    "\n",
    "class ObjectDetection:\n",
    "    OUTPUT_TENSOR_NAMES = ['detected_boxes', 'detected_scores', 'detected_classes']\n",
    "\n",
    "    def __init__(self, model_filename):\n",
    "        self._interpreter = tflite.Interpreter(model_path=model_filename)\n",
    "        self._interpreter.allocate_tensors()\n",
    "\n",
    "        input_details = self._interpreter.get_input_details()\n",
    "        output_details = self._interpreter.get_output_details()\n",
    "        assert len(input_details) == 1\n",
    "        self._input_index = input_details[0]['index']\n",
    "\n",
    "        output_name_index = {d['name']: d['index'] for d in output_details}\n",
    "        self._output_indexes = [output_name_index[name] for name in self.OUTPUT_TENSOR_NAMES]\n",
    "\n",
    "        self._input_size = int(input_details[0]['shape'][1])\n",
    "\n",
    "    def predict_image(self, image):\n",
    "        image = image.convert('RGB') if image.mode != 'RGB' else image\n",
    "        image = image.resize((self._input_size, self._input_size))\n",
    "\n",
    "        input_array = np.array(image, dtype=np.float32)[np.newaxis, :, :, :]\n",
    "        self._interpreter.set_tensor(self._input_index, input_array)\n",
    "        self._interpreter.invoke()\n",
    "\n",
    "        outputs = [self._interpreter.get_tensor(i) for i in self._output_indexes]\n",
    "        return outputs\n",
    "\n",
    "\n",
    "def initialize():\n",
    "    global od_model\n",
    "    od_model = ObjectDetection(MODEL_FILENAME)\n",
    "    global labels\n",
    "    with open(LABELS_FILENAME) as f:\n",
    "        labels = [label.strip() for label in f.readlines()]\n",
    "\n",
    "\n",
    "def predict_url(image_url):\n",
    "    with urlopen(image_url) as binary:\n",
    "        image = PIL.Image.open(binary)\n",
    "        return predict_image(image)\n",
    "\n",
    "\n",
    "def predict_image(image):\n",
    "    assert od_model is not None\n",
    "    assert labels is not None\n",
    "\n",
    "    predictions = od_model.predict_image(image)\n",
    "\n",
    "    predictions = [{'probability': round(float(p[1]), 8),\n",
    "                    'tagId': int(p[2]),\n",
    "                    'tagName': labels[p[2]],\n",
    "                    'boundingBox': {\n",
    "                        'left': round(float(p[0][0]), 8),\n",
    "                        'top': round(float(p[0][1]), 8),\n",
    "                        'width': round(float(p[0][2] - p[0][0]), 8),\n",
    "                        'height': round(float(p[0][3] - p[0][1]), 8)\n",
    "                        }\n",
    "                    } for p in zip(*predictions)]\n",
    "\n",
    "    response = {'id': '', 'project': '', 'iteration': '', 'created': datetime.utcnow().isoformat(),\n",
    "                'predictions': predictions}\n",
    "\n",
    "    return response\n"
   ]
  },
  {
   "cell_type": "markdown",
   "metadata": {},
   "source": [
    "## Logica voor het uitvoeren van de voorspellingen, inclusief het plaatsen van bounding boxen en het berekenen van de metrics."
   ]
  },
  {
   "cell_type": "code",
   "execution_count": null,
   "metadata": {},
   "outputs": [],
   "source": [
    "initialize()\n",
    "\n",
    "import os\n",
    "import time\n",
    "import PIL.Image\n",
    "import matplotlib.pyplot as plt\n",
    "import matplotlib.patches as patches\n",
    "import matplotlib.pyplot as plt\n",
    "\n",
    "def show_image_matplotlib(image, title=\"\"):\n",
    "    plt.figure(figsize=(6, 6))\n",
    "    plt.imshow(image)\n",
    "    plt.title(title)\n",
    "    plt.axis(\"off\")\n",
    "    plt.tight_layout()\n",
    "    plt.show()\n",
    "\n",
    "def draw_bounding_box_with_title(image, bbox, predicted_label, probability, title=\"\"):\n",
    "    fig, ax = plt.subplots(1)\n",
    "    ax.imshow(image)\n",
    "\n",
    "    width, height = image.size\n",
    "    left = bbox['left'] * width\n",
    "    top = bbox['top'] * height\n",
    "    box_width = bbox['width'] * width\n",
    "    box_height = bbox['height'] * height\n",
    "\n",
    "    rect = patches.Rectangle((left, top), box_width, box_height,\n",
    "                             linewidth=2, edgecolor='red', facecolor='none')\n",
    "    ax.add_patch(rect)\n",
    "\n",
    "    label_text = f\"{predicted_label} ({probability:.2f})\"\n",
    "    ax.text(left, top - 10, label_text, color='white', fontsize=12,\n",
    "            backgroundcolor='red')\n",
    "\n",
    "    ax.set_title(title, fontsize=14)\n",
    "    plt.axis(\"off\")\n",
    "    plt.tight_layout()\n",
    "    plt.show()\n",
    "\n",
    "\n",
    "def predict_falls(base_path, THRESHOLD):\n",
    "    start_time = time.time()\n",
    "    total_predictions = 0\n",
    "    rooms_to_predict = [7,8,11,15,21,31]\n",
    "\n",
    "    TP = FP = TN = FN = 0\n",
    "\n",
    "    POSE_LABELS = [\"laying\", \"sitting\", \"standing\", \"bending\"]\n",
    "\n",
    "    def is_laying_true(filename):\n",
    "        if \"_not_laying\" in filename:\n",
    "            return False\n",
    "        elif \"_laying\" in filename:\n",
    "            return True\n",
    "\n",
    "    def is_laying_pred(prediction):\n",
    "        return (\n",
    "            prediction['tagName'] == \"laying\"\n",
    "            and prediction['probability'] >= THRESHOLD\n",
    "        )\n",
    "\n",
    "    for i in rooms_to_predict:\n",
    "        room_path = os.path.join(base_path, f\"room{i}\")\n",
    "        if not os.path.isdir(room_path):\n",
    "            print(f\"{room_path} bestaat niet, overslaan...\")\n",
    "            continue\n",
    "\n",
    "        for filename in os.listdir(room_path):\n",
    "            if not filename.lower().endswith(('.png', '.jpg', '.jpeg')):\n",
    "                continue\n",
    "\n",
    "            filepath = os.path.join(room_path, filename)\n",
    "            image = PIL.Image.open(filepath)\n",
    "\n",
    "            try:\n",
    "                result = predict_image(image)\n",
    "                total_predictions += 1\n",
    "            except Exception as e:\n",
    "                print(f\"Fout bij voorspellen van {filepath}: {e}\")\n",
    "                continue\n",
    "\n",
    "            predictions = result['predictions']\n",
    "            if not predictions:\n",
    "                print(f\"Geen voorspelling voor {filename}\")\n",
    "                continue\n",
    "\n",
    "            pose_predictions = [p for p in predictions if p['tagName'] in POSE_LABELS]\n",
    "\n",
    "            if pose_predictions:\n",
    "                best_pred = max(pose_predictions, key=lambda p: p['probability'])\n",
    "                predicted = is_laying_pred(best_pred)\n",
    "            else:\n",
    "                predicted = False\n",
    "\n",
    "            actual = is_laying_true(filename)\n",
    "\n",
    "            if actual and predicted:\n",
    "                TP += 1\n",
    "            elif not actual and predicted:\n",
    "                FP += 1\n",
    "                print(f\"[FALSE POSITIVE] Room: room{i}, File: {filename}\")\n",
    "                draw_bounding_box_with_title(\n",
    "                    image,\n",
    "                    bbox=best_pred['boundingBox'],\n",
    "                    predicted_label=best_pred['tagName'],\n",
    "                    probability=best_pred['probability'],\n",
    "                    title=f\"False Positive - room{i}/{filename}\"\n",
    "                )\n",
    "            elif not actual and not predicted:\n",
    "                TN += 1\n",
    "            elif actual and not predicted:\n",
    "                FN += 1\n",
    "                print(f\"[FALSE NEGATIVE] Room: room{i}, File: {filename}\")\n",
    "                draw_bounding_box_with_title(\n",
    "                    image,\n",
    "                    bbox=best_pred['boundingBox'],\n",
    "                    predicted_label=best_pred['tagName'],\n",
    "                    probability=best_pred['probability'],\n",
    "                    title=f\"False Negative - room{i}/{filename}\"\n",
    "                )\n",
    "\n",
    "    end_time = time.time()\n",
    "    total_time = end_time - start_time\n",
    "    avg_time_per_prediction = total_time / total_predictions if total_predictions > 0 else 0\n",
    "\n",
    "    precision = TP / (TP + FP) if (TP + FP) > 0 else 0\n",
    "    recall = TP / (TP + FN) if (TP + FN) > 0 else 0\n",
    "\n",
    "    print(\"\\n=== Resultaten ===\")\n",
    "    print(f\"TP: {TP}, FP: {FP}, TN: {TN}, FN: {FN}\")\n",
    "    print(f\"Precision: {precision:.4f}\")\n",
    "    print(f\"Recall: {recall:.4f}\")\n",
    "    print(f\"\\n=== Timing ===\")\n",
    "    print(f\"Totale tijd: {total_time:.2f} seconden\")\n",
    "    print(f\"Aantal voorspellingen: {total_predictions}\")\n",
    "    print(f\"Gemiddelde tijd per voorspelling: {avg_time_per_prediction:.4f} seconden\")\n"
   ]
  },
  {
   "cell_type": "markdown",
   "metadata": {},
   "source": [
    "### Baseline"
   ]
  },
  {
   "cell_type": "code",
   "execution_count": null,
   "metadata": {},
   "outputs": [],
   "source": [
    "predict_falls(\"data-filtered-rooms\", 0.5)"
   ]
  },
  {
   "cell_type": "markdown",
   "metadata": {},
   "source": [
    "### Traditionele methoden"
   ]
  },
  {
   "cell_type": "code",
   "execution_count": null,
   "metadata": {},
   "outputs": [],
   "source": [
    "predict_falls(\"data-zerodce-lite\", 0.05)"
   ]
  },
  {
   "cell_type": "code",
   "execution_count": null,
   "metadata": {},
   "outputs": [],
   "source": [
    "predict_falls(\"data-gamma\", 0.05)"
   ]
  },
  {
   "cell_type": "markdown",
   "metadata": {},
   "source": [
    "### 50 epochs 1e-5"
   ]
  },
  {
   "cell_type": "code",
   "execution_count": null,
   "metadata": {},
   "outputs": [],
   "source": [
    "predict_falls(\"data-zero-dce-finetuned50\", 0.5)"
   ]
  },
  {
   "cell_type": "markdown",
   "metadata": {},
   "source": [
    "### 100 epochs 1e-5"
   ]
  },
  {
   "cell_type": "code",
   "execution_count": null,
   "metadata": {},
   "outputs": [],
   "source": [
    "predict_falls(\"data-zero-dce-finetuned100\", 0.5)"
   ]
  },
  {
   "cell_type": "markdown",
   "metadata": {},
   "source": [
    "### 50 epochs 1e-5 + 50 epochs 1e-100"
   ]
  },
  {
   "cell_type": "code",
   "execution_count": null,
   "metadata": {},
   "outputs": [],
   "source": [
    "predict_falls(\"data-zero-dce-finetuned\", 0.5)"
   ]
  },
  {
   "cell_type": "markdown",
   "metadata": {},
   "source": [
    "### 100 epochs 1e-6"
   ]
  },
  {
   "cell_type": "code",
   "execution_count": null,
   "metadata": {},
   "outputs": [],
   "source": [
    "predict_falls(\"data-zero-dce-finetuned1006\", 0.5)"
   ]
  },
  {
   "cell_type": "markdown",
   "metadata": {},
   "source": [
    "### 30 epochs 1e-7"
   ]
  },
  {
   "cell_type": "code",
   "execution_count": null,
   "metadata": {},
   "outputs": [],
   "source": [
    "predict_falls(\"data-zero-dce-finetuned1007\", 0.5)"
   ]
  },
  {
   "cell_type": "markdown",
   "metadata": {},
   "source": [
    "### 100 epochs 1e-5, focus op shuffle in de batches"
   ]
  },
  {
   "cell_type": "code",
   "execution_count": null,
   "metadata": {},
   "outputs": [],
   "source": [
    "predict_falls(\"data-zero-dce-finetuned-100-diffbatch\", 0.5)"
   ]
  }
 ],
 "metadata": {
  "kernelspec": {
   "display_name": "tf-onnx",
   "language": "python",
   "name": "python3"
  },
  "language_info": {
   "codemirror_mode": {
    "name": "ipython",
    "version": 3
   },
   "file_extension": ".py",
   "mimetype": "text/x-python",
   "name": "python",
   "nbconvert_exporter": "python",
   "pygments_lexer": "ipython3",
   "version": "3.7.12"
  }
 },
 "nbformat": 4,
 "nbformat_minor": 2
}
